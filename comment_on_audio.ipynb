{
 "cells": [
  {
   "cell_type": "markdown",
   "source": [
    "# Installing Necessary Libraries"
   ],
   "metadata": {
    "collapsed": false
   }
  },
  {
   "cell_type": "markdown",
   "source": [],
   "metadata": {
    "collapsed": false,
    "pycharm": {
     "name": "#%% md\n"
    }
   }
  },
  {
   "cell_type": "code",
   "execution_count": 3,
   "outputs": [
    {
     "name": "stdout",
     "output_type": "stream",
     "text": [
      "Collecting PySoundFile\n",
      "  Downloading PySoundFile-0.9.0.post1-py2.py3.cp26.cp27.cp32.cp33.cp34.cp35.cp36.pp27.pp32.pp33-none-win32.whl (639 kB)\n",
      "Requirement already satisfied: cffi>=0.6 in c:\\users\\gulzar seferli\\desktop\\programmin_1_m1\\comments_on_audio_file\\venv\\lib\\site-packages (from PySoundFile) (1.15.0)\n",
      "Requirement already satisfied: pycparser in c:\\users\\gulzar seferli\\desktop\\programmin_1_m1\\comments_on_audio_file\\venv\\lib\\site-packages (from cffi>=0.6->PySoundFile) (2.21)\n",
      "Installing collected packages: PySoundFile\n",
      "Successfully installed PySoundFile-0.9.0.post1\n"
     ]
    },
    {
     "name": "stderr",
     "output_type": "stream",
     "text": [
      "WARNING: You are using pip version 21.1.2; however, version 21.3.1 is available.\n",
      "You should consider upgrading via the 'C:\\Users\\Gulzar Seferli\\Desktop\\Programmin_1_M1\\Comments_on_Audio_File\\venv\\Scripts\\python.exe -m pip install --upgrade pip' command.\n"
     ]
    }
   ],
   "source": [
    " # library to read audio files\n",
    "!pip install PySoundFile\n",
    "import soundfile as sf\n",
    "\n",
    "# library to display audio files\n",
    "import IPython\n",
    "from IPython.display import Audio\n",
    "\n",
    "# library to plot sounds\n",
    "import matplotlib.pyplot as plt\n",
    "plt.style.use(\"default\")\n",
    "\n",
    "import numpy as np\n"
   ],
   "metadata": {
    "collapsed": false,
    "pycharm": {
     "name": "#%%\n"
    }
   }
  }
 ],
 "metadata": {
  "kernelspec": {
   "display_name": "Python 3 (ipykernel)",
   "language": "python",
   "name": "python3"
  },
  "language_info": {
   "codemirror_mode": {
    "name": "ipython",
    "version": 3
   },
   "file_extension": ".py",
   "mimetype": "text/x-python",
   "name": "python",
   "nbconvert_exporter": "python",
   "pygments_lexer": "ipython3",
   "version": "3.8.2"
  }
 },
 "nbformat": 4,
 "nbformat_minor": 1
}